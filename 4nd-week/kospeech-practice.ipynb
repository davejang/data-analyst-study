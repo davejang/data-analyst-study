{
 "cells": [
  {
   "cell_type": "code",
   "execution_count": 2,
   "metadata": {},
   "outputs": [],
   "source": [
    "import os\n",
    "import soundfile as sf\n",
    "import numpy as np\n",
    "import pandas as pd\n",
    "import glob\n",
    "import librosa, librosa.display\n",
    "import sklearn\n",
    "import random as rn\n",
    "import torch\n",
    "import torch.nn as nn"
   ]
  },
  {
   "cell_type": "code",
   "execution_count": 3,
   "metadata": {},
   "outputs": [],
   "source": [
    "import warnings\n",
    "warnings.filterwarnings('ignore')"
   ]
  },
  {
   "cell_type": "code",
   "execution_count": 10,
   "metadata": {},
   "outputs": [],
   "source": [
    "# load audio files\n",
    "data_path = \"D:\\\\ksponspeech\\\\한국어 음성\\\\한국어_음성_분야\"\n",
    "dataset = []\n",
    "\n",
    "for folder in os.listdir(data_path):\n",
    "    if not folder.startswith('KsponSpeech'): # ignore other subfolders\n",
    "        continue\n",
    "    \n",
    "    sub_path = os.path.join(data_path,folder)\n",
    "    \n",
    "    for i, subfolder in enumerate(os.listdir(sub_path)):\n",
    "        path = os.path.join(data_path,folder,subfolder)\n",
    "        for j, filename in enumerate(os.listdir(path)):\n",
    "            if filename.endswith('.pcm'):\n",
    "                file = path+\"\\\\\"+filename\n",
    "                pcm = np.memmap(file, dtype='h', mode='r').astype('float32')\n",
    "                pcm = pcm / 32767 # normalize\n",
    "                mfcc = librosa.feature.mfcc(pcm)\n",
    "                np.save(f'./data/{filename}',mfcc)\n",
    "                \n",
    "            elif filename.endswith('.wav') or filename.endswith('.flac'):\n",
    "                file = path+\"\\\\\"+filename\n",
    "                wav, sr = librosa.load(file, sr=16000)\n",
    "                mfcc = librosa.feature.mfcc(wav)\n",
    "                np.save(f'./data/{filename}',mfcc)"
   ]
  },
  {
   "cell_type": "code",
   "execution_count": 3,
   "metadata": {},
   "outputs": [
    {
     "data": {
      "text/plain": [
       "<matplotlib.collections.QuadMesh at 0x22009dafee0>"
      ]
     },
     "execution_count": 3,
     "metadata": {},
     "output_type": "execute_result"
    },
    {
     "data": {
      "image/png": "[encoded data removed]",
      "text/plain": [
       "<Figure size 432x288 with 1 Axes>"
      ]
     },
     "metadata": {
      "needs_background": "light"
     },
     "output_type": "display_data"
    }
   ],
   "source": [
    "FIG_SIZE = (7.5,5)\n",
    "\n",
    "test = np.load('./data/KsponSpeech_000001.pcm.npy')\n",
    "librosa.display.specshow(test, sr=16000, x_axis='time')"
   ]
  },
  {
   "cell_type": "code",
   "execution_count": 12,
   "metadata": {},
   "outputs": [
    {
     "data": {
      "text/html": [
       "<div>\n",
       "<style scoped>\n",
       "    .dataframe tbody tr th:only-of-type {\n",
       "        vertical-align: middle;\n",
       "    }\n",
       "\n",
       "    .dataframe tbody tr th {\n",
       "        vertical-align: top;\n",
       "    }\n",
       "\n",
       "    .dataframe thead th {\n",
       "        text-align: right;\n",
       "    }\n",
       "</style>\n",
       "<table border=\"1\" class=\"dataframe\">\n",
       "  <thead>\n",
       "    <tr style=\"text-align: right;\">\n",
       "      <th></th>\n",
       "      <th>path</th>\n",
       "      <th>script</th>\n",
       "      <th>vector</th>\n",
       "    </tr>\n",
       "  </thead>\n",
       "  <tbody>\n",
       "    <tr>\n",
       "      <th>0</th>\n",
       "      <td>KsponSpeech_01\\KsponSpeech_0001\\KsponSpeech_00...</td>\n",
       "      <td>아 몬 소리야 그건 또.</td>\n",
       "      <td>8 3 724 3 174 33 27 3 5 101 3 127 4</td>\n",
       "    </tr>\n",
       "    <tr>\n",
       "      <th>1</th>\n",
       "      <td>\\nKsponSpeech_01\\KsponSpeech_0001\\KsponSpeech_...</td>\n",
       "      <td>나는 악습은 원래 없어진다 없어져야 된다고 생각하긴 했는데 근데 그 약간 필요악으로...</td>\n",
       "      <td>16 7 3 425 366 25 3 84 35 3 78 11 56 18 3 78 1...</td>\n",
       "    </tr>\n",
       "    <tr>\n",
       "      <th>2</th>\n",
       "      <td>\\nKsponSpeech_01\\KsponSpeech_0001\\KsponSpeech_...</td>\n",
       "      <td>그래서 지호랑 계단 올라와서 막 위에 운동하는 기구 있대요. 그서 그걸로 운동 할려구요.</td>\n",
       "      <td>5 35 19 3 13 289 97 3 143 124 3 210 34 160 19 ...</td>\n",
       "    </tr>\n",
       "    <tr>\n",
       "      <th>3</th>\n",
       "      <td>\\nKsponSpeech_01\\KsponSpeech_0001\\KsponSpeech_...</td>\n",
       "      <td>뭐 정신과 병원도 그 약 타서 먹어보고 그 한동안 연락이 안 된 적이 있었단 말이야...</td>\n",
       "      <td>42 3 86 146 188 3 370 84 21 3 5 3 100 3 191 19...</td>\n",
       "    </tr>\n",
       "    <tr>\n",
       "      <th>4</th>\n",
       "      <td>\\nKsponSpeech_01\\KsponSpeech_0001\\KsponSpeech_...</td>\n",
       "      <td>그게 영 점 일 프로 가정의 아이들과 가정의 모습이야?</td>\n",
       "      <td>5 22 3 153 3 207 3 41 3 257 40 3 9 86 132 3 8 ...</td>\n",
       "    </tr>\n",
       "  </tbody>\n",
       "</table>\n",
       "</div>"
      ],
      "text/plain": [
       "                                                path  \\\n",
       "0  KsponSpeech_01\\KsponSpeech_0001\\KsponSpeech_00...   \n",
       "1  \\nKsponSpeech_01\\KsponSpeech_0001\\KsponSpeech_...   \n",
       "2  \\nKsponSpeech_01\\KsponSpeech_0001\\KsponSpeech_...   \n",
       "3  \\nKsponSpeech_01\\KsponSpeech_0001\\KsponSpeech_...   \n",
       "4  \\nKsponSpeech_01\\KsponSpeech_0001\\KsponSpeech_...   \n",
       "\n",
       "                                              script  \\\n",
       "0                                      아 몬 소리야 그건 또.   \n",
       "1  나는 악습은 원래 없어진다 없어져야 된다고 생각하긴 했는데 근데 그 약간 필요악으로...   \n",
       "2  그래서 지호랑 계단 올라와서 막 위에 운동하는 기구 있대요. 그서 그걸로 운동 할려구요.   \n",
       "3  뭐 정신과 병원도 그 약 타서 먹어보고 그 한동안 연락이 안 된 적이 있었단 말이야...   \n",
       "4                     그게 영 점 일 프로 가정의 아이들과 가정의 모습이야?   \n",
       "\n",
       "                                              vector  \n",
       "0                8 3 724 3 174 33 27 3 5 101 3 127 4  \n",
       "1  16 7 3 425 366 25 3 84 35 3 78 11 56 18 3 78 1...  \n",
       "2  5 35 19 3 13 289 97 3 143 124 3 210 34 160 19 ...  \n",
       "3  42 3 86 146 188 3 370 84 21 3 5 3 100 3 191 19...  \n",
       "4  5 22 3 153 3 207 3 41 3 257 40 3 9 86 132 3 8 ...  "
      ]
     },
     "execution_count": 12,
     "metadata": {},
     "output_type": "execute_result"
    }
   ],
   "source": [
    "transcripts = pd.read_table('transcripts.txt',sep='\\t',lineterminator='\\r',encoding='cp949',names=['path','script','vector'])\n",
    "transcripts[:5]"
   ]
  }
 ],
 "metadata": {
  "kernelspec": {
   "display_name": "Python 3.10.6 64-bit",
   "language": "python",
   "name": "python3"
  },
  "language_info": {
   "codemirror_mode": {
    "name": "ipython",
    "version": 3
   },
   "file_extension": ".py",
   "mimetype": "text/x-python",
   "name": "python",
   "nbconvert_exporter": "python",
   "pygments_lexer": "ipython3",
   "version": "3.10.6"
  },
  "orig_nbformat": 4,
  "vscode": {
   "interpreter": {
    "hash": "369f2c481f4da34e4445cda3fffd2e751bd1c4d706f27375911949ba6bb62e1c"
   }
  }
 },
 "nbformat": 4,
 "nbformat_minor": 2
}
