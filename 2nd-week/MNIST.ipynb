{
 "cells": [
  {
   "cell_type": "code",
   "execution_count": 1,
   "metadata": {},
   "outputs": [
    {
     "data": {
      "image/png": "[encoded data removed]",
      "text/plain": [
       "<Figure size 360x360 with 1 Axes>"
      ]
     },
     "metadata": {
      "needs_background": "light"
     },
     "output_type": "display_data"
    },
    {
     "name": "stdout",
     "output_type": "stream",
     "text": [
      "[ 0.  0.  7. 15. 13.  1.  0.  0.  0.  8. 13.  6. 15.  4.  0.  0.  0.  2.\n",
      "  1. 13. 13.  0.  0.  0.  0.  0.  2. 15. 11.  1.  0.  0.  0.  0.  0.  1.\n",
      " 12. 12.  1.  0.  0.  0.  0.  0.  1. 10.  8.  0.  0.  0.  8.  4.  5. 14.\n",
      "  9.  0.  0.  0.  7. 13. 13.  9.  0.  0.]\n",
      "이 숫자는  3 입니다.\n"
     ]
    }
   ],
   "source": [
    "# MNIST 데이터 시각화 및 타겟(레이블) 출력\n",
    "from sklearn import datasets\n",
    "import matplotlib.pyplot as plt\n",
    "\n",
    "digit = datasets.load_digits()\n",
    "\n",
    "plt.figure(figsize=(5,5))\n",
    "plt.imshow(digit.images[3],cmap=plt.cm.gray_r,interpolation='nearest')\n",
    "\n",
    "plt.show()\n",
    "print(digit.data[3])\n",
    "print('이 숫자는 ',digit.target[3],\"입니다.\")"
   ]
  },
  {
   "cell_type": "markdown",
   "metadata": {},
   "source": [
    "MNIST 데이터셋은 8x8 픽셀 이미지를 64차원 특징 벡터로 표현한 데이터이다"
   ]
  },
  {
   "cell_type": "code",
   "execution_count": 2,
   "metadata": {},
   "outputs": [
    {
     "name": "stdout",
     "output_type": "stream",
     "text": [
      "예측값은  [0 1 2]\n",
      "실제 값은  0 1 2\n"
     ]
    }
   ],
   "source": [
    "# 실제 숫자 인식 구현\n",
    "from sklearn import svm\n",
    "\n",
    "s = svm.SVC(gamma=0.1,C=10)\n",
    "s.fit(digit.data,digit.target)\n",
    "\n",
    "# sample data를 MNIST 데이터셋 앞의 3개로 선정 후 인식\n",
    "new_d = [digit.data[0],digit.data[1],digit.data[2]] # 0, 1, 2\n",
    "res = s.predict(new_d)\n",
    "print(\"예측값은 \",res)\n",
    "print(\"실제 값은 \",digit.target[0],digit.target[1],digit.target[2])"
   ]
  },
  {
   "cell_type": "code",
   "execution_count": 3,
   "metadata": {},
   "outputs": [
    {
     "name": "stdout",
     "output_type": "stream",
     "text": [
      "[[73.  0.  0.  0.  0.  0.  0.  0.  0.  0.]\n",
      " [ 0. 73.  0.  0.  0.  0.  0.  0.  2.  0.]\n",
      " [ 0.  0. 65.  0.  0.  0.  0.  0.  0.  0.]\n",
      " [ 0.  0.  0. 61.  0.  0.  0.  0.  1.  0.]\n",
      " [ 0.  0.  0.  0. 67.  0.  0.  0.  0.  0.]\n",
      " [ 0.  0.  0.  0.  0. 81.  0.  0.  0.  1.]\n",
      " [ 0.  0.  0.  0.  0.  0. 66.  0.  0.  0.]\n",
      " [ 0.  0.  0.  1.  0.  0.  0. 83.  0.  0.]\n",
      " [ 0.  0.  0.  0.  0.  0.  0.  0. 74.  0.]\n",
      " [ 0.  0.  0.  0.  0.  1.  0.  0.  1. 69.]]\n",
      "accuracy = 99.02642559109874\n"
     ]
    }
   ],
   "source": [
    "from sklearn import datasets\n",
    "from sklearn import svm\n",
    "from sklearn.model_selection import train_test_split\n",
    "import numpy as np\n",
    "\n",
    "# 데이터셋은 훈련 집합과 테스트 집합으로 분할\n",
    "digit = datasets.load_digits()\n",
    "x_train,x_test,y_train,y_test = train_test_split(digit.data,digit.target,train_size=0.6) # 훈련 데이터셋 비율 60%, 테스트 데이터셋 비울 40%\n",
    "\n",
    "# SVM을 통해 학습 및 예측\n",
    "s = svm.SVC(gamma=0.001)\n",
    "s.fit(x_train,y_train)\n",
    "res = s.predict(x_test)\n",
    "\n",
    "# 혼동 행렬 생성\n",
    "conf = np.zeros((10,10))\n",
    "for i in range(len(res)):\n",
    "    conf[res[i]][y_test[i]]+=1\n",
    "print(conf)\n",
    "\n",
    "# accuracy 측정\n",
    "not_correct = 0\n",
    "for i in range(10):\n",
    "    not_correct+=conf[i][i]\n",
    "accuracy = not_correct/len(res)\n",
    "print(\"accuracy =\",accuracy*100)"
   ]
  },
  {
   "cell_type": "code",
   "execution_count": 4,
   "metadata": {},
   "outputs": [
    {
     "name": "stdout",
     "output_type": "stream",
     "text": [
      "[0.975      0.95       0.98328691 0.99164345 0.96100279]\n",
      "정확률(평균)=97.219,표춘편차=0.015\n"
     ]
    }
   ],
   "source": [
    "# cross_val_score을 활용한 교차 검증\n",
    "from sklearn.model_selection import cross_val_score\n",
    "\n",
    "accuracies = cross_val_score(s,digit.data,digit.target,cv=5) # 5겹 교차 검증\n",
    "print(accuracies)\n",
    "print(\"정확률(평균)=%0.3f,표춘편차=%0.3f\"%(accuracies.mean()*100,accuracies.std()))"
   ]
  }
 ],
 "metadata": {
  "kernelspec": {
   "display_name": "Python 3.9.12 ('base')",
   "language": "python",
   "name": "python3"
  },
  "language_info": {
   "codemirror_mode": {
    "name": "ipython",
    "version": 3
   },
   "file_extension": ".py",
   "mimetype": "text/x-python",
   "name": "python",
   "nbconvert_exporter": "python",
   "pygments_lexer": "ipython3",
   "version": "3.9.12"
  },
  "orig_nbformat": 4,
  "vscode": {
   "interpreter": {
    "hash": "aa88009d4ad5c9a8874bebd6c18961f92797fc63346d42f552887d7333c6b568"
   }
  }
 },
 "nbformat": 4,
 "nbformat_minor": 2
}
