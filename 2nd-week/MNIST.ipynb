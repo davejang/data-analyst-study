{
 "cells": [
  {
   "cell_type": "code",
   "execution_count": 5,
   "metadata": {},
   "outputs": [
    {
     "data": {
      "image/png": "[encoded data removed]",
      "text/plain": [
       "<Figure size 360x360 with 1 Axes>"
      ]
     },
     "metadata": {
      "needs_background": "light"
     },
     "output_type": "display_data"
    },
    {
     "name": "stdout",
     "output_type": "stream",
     "text": [
      "[ 0.  0.  7. 15. 13.  1.  0.  0.  0.  8. 13.  6. 15.  4.  0.  0.  0.  2.\n",
      "  1. 13. 13.  0.  0.  0.  0.  0.  2. 15. 11.  1.  0.  0.  0.  0.  0.  1.\n",
      " 12. 12.  1.  0.  0.  0.  0.  0.  1. 10.  8.  0.  0.  0.  8.  4.  5. 14.\n",
      "  9.  0.  0.  0.  7. 13. 13.  9.  0.  0.]\n",
      "이 숫자는  3 입니다.\n"
     ]
    }
   ],
   "source": [
    "# MNIST 데이터 시각화 및 숫자 예측\n",
    "from sklearn import datasets\n",
    "import matplotlib.pyplot as plt\n",
    "\n",
    "digit = datasets.load_digits()\n",
    "\n",
    "plt.figure(figsize=(5,5))\n",
    "plt.imshow(digit.images[3],cmap=plt.cm.gray_r,interpolation='nearest')\n",
    "\n",
    "plt.show()\n",
    "print(digit.data[3])\n",
    "print('이 숫자는 ',digit.target[3],\"입니다.\")"
   ]
  }
 ],
 "metadata": {
  "kernelspec": {
   "display_name": "Python 3.9.12 ('base')",
   "language": "python",
   "name": "python3"
  },
  "language_info": {
   "codemirror_mode": {
    "name": "ipython",
    "version": 3
   },
   "file_extension": ".py",
   "mimetype": "text/x-python",
   "name": "python",
   "nbconvert_exporter": "python",
   "pygments_lexer": "ipython3",
   "version": "3.9.12"
  },
  "orig_nbformat": 4,
  "vscode": {
   "interpreter": {
    "hash": "aa88009d4ad5c9a8874bebd6c18961f92797fc63346d42f552887d7333c6b568"
   }
  }
 },
 "nbformat": 4,
 "nbformat_minor": 2
}
