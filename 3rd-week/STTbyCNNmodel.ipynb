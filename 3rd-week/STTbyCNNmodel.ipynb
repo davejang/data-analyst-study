{
 "cells": [
  {
   "cell_type": "code",
   "execution_count": 3,
   "metadata": {},
   "outputs": [],
   "source": [
    "import os\n",
    "import numpy as np\n",
    "import pandas as pd\n",
    "import librosa, librosa.display\n",
    "import sklearn\n",
    "import random as rn\n",
    "import torch\n",
    "import torch.nn as nn"
   ]
  },
  {
   "cell_type": "code",
   "execution_count": 4,
   "metadata": {},
   "outputs": [],
   "source": [
    "pad1d = lambda a, i: a[0: i] if a.shape[0] > i else np.hstack((a, np.zeros(i-a.shape[0])))\n",
    "pad2d = lambda a, i: a[:, 0:i] if a.shape[1] > i else np.hstack((a, np.zeros((a.shape[0], i-a.shape[1]))))"
   ]
  },
  {
   "cell_type": "code",
   "execution_count": 39,
   "metadata": {},
   "outputs": [
    {
     "data": {
      "text/html": [
       "<div>\n",
       "<style scoped>\n",
       "    .dataframe tbody tr th:only-of-type {\n",
       "        vertical-align: middle;\n",
       "    }\n",
       "\n",
       "    .dataframe tbody tr th {\n",
       "        vertical-align: top;\n",
       "    }\n",
       "\n",
       "    .dataframe thead th {\n",
       "        text-align: right;\n",
       "    }\n",
       "</style>\n",
       "<table border=\"1\" class=\"dataframe\">\n",
       "  <thead>\n",
       "    <tr style=\"text-align: right;\">\n",
       "      <th></th>\n",
       "      <th>filename</th>\n",
       "      <th>script</th>\n",
       "    </tr>\n",
       "  </thead>\n",
       "  <tbody>\n",
       "    <tr>\n",
       "      <th>0</th>\n",
       "      <td>1_0000.wav</td>\n",
       "      <td>그는 괜찮은 척하려고 애쓰는 것 같았다.</td>\n",
       "    </tr>\n",
       "    <tr>\n",
       "      <th>1</th>\n",
       "      <td>1_0001.wav</td>\n",
       "      <td>그녀의 사랑을 얻기 위해 애썼지만 헛수고였다.</td>\n",
       "    </tr>\n",
       "    <tr>\n",
       "      <th>2</th>\n",
       "      <td>1_0002.wav</td>\n",
       "      <td>용돈을 아껴 써라.</td>\n",
       "    </tr>\n",
       "    <tr>\n",
       "      <th>3</th>\n",
       "      <td>1_0003.wav</td>\n",
       "      <td>그는 아내를 많이 아낀다.</td>\n",
       "    </tr>\n",
       "    <tr>\n",
       "      <th>4</th>\n",
       "      <td>1_0004.wav</td>\n",
       "      <td>그 애 전화번호 알아?</td>\n",
       "    </tr>\n",
       "    <tr>\n",
       "      <th>...</th>\n",
       "      <td>...</td>\n",
       "      <td>...</td>\n",
       "    </tr>\n",
       "    <tr>\n",
       "      <th>12849</th>\n",
       "      <td>4_5627.wav</td>\n",
       "      <td>깨진 유리 조각에 손가락을 벴어요.</td>\n",
       "    </tr>\n",
       "    <tr>\n",
       "      <th>12850</th>\n",
       "      <td>4_5628.wav</td>\n",
       "      <td>아드님이 친구들과 야구를 하다 유리창을 깼어요.</td>\n",
       "    </tr>\n",
       "    <tr>\n",
       "      <th>12851</th>\n",
       "      <td>4_5629.wav</td>\n",
       "      <td>일찍 신청하는 사람이 유리할 거야.</td>\n",
       "    </tr>\n",
       "    <tr>\n",
       "      <th>12852</th>\n",
       "      <td>4_5630.wav</td>\n",
       "      <td>이 두 소설은 줄거리가 유사해요.</td>\n",
       "    </tr>\n",
       "    <tr>\n",
       "      <th>12853</th>\n",
       "      <td>4_5631.wav</td>\n",
       "      <td>올해 6월은 유난히 쌀쌀해요.</td>\n",
       "    </tr>\n",
       "  </tbody>\n",
       "</table>\n",
       "<p>12854 rows × 2 columns</p>\n",
       "</div>"
      ],
      "text/plain": [
       "         filename                      script\n",
       "0      1_0000.wav      그는 괜찮은 척하려고 애쓰는 것 같았다.\n",
       "1      1_0001.wav   그녀의 사랑을 얻기 위해 애썼지만 헛수고였다.\n",
       "2      1_0002.wav                  용돈을 아껴 써라.\n",
       "3      1_0003.wav              그는 아내를 많이 아낀다.\n",
       "4      1_0004.wav                그 애 전화번호 알아?\n",
       "...           ...                         ...\n",
       "12849  4_5627.wav         깨진 유리 조각에 손가락을 벴어요.\n",
       "12850  4_5628.wav  아드님이 친구들과 야구를 하다 유리창을 깼어요.\n",
       "12851  4_5629.wav         일찍 신청하는 사람이 유리할 거야.\n",
       "12852  4_5630.wav          이 두 소설은 줄거리가 유사해요.\n",
       "12853  4_5631.wav            올해 6월은 유난히 쌀쌀해요.\n",
       "\n",
       "[12854 rows x 2 columns]"
      ]
     },
     "execution_count": 39,
     "metadata": {},
     "output_type": "execute_result"
    }
   ],
   "source": [
    "train_dataset = []\n",
    "test_dataset = []\n",
    "train_transcript = []\n",
    "test_transcript = []\n",
    "\n",
    "train_path = './data/1'\n",
    "test_path = './data/2'\n",
    "\n",
    "transcript = pd.read_table('./data/transcripts.txt',sep='|')\n",
    "transcript_list = transcript['문장']\n",
    "transcript.drop(['문장2', '문장3','?','영문'], axis=1)\n",
    "path_list = pd.DataFrame(transcript.파일명.str.split('/',3).tolist(),\n",
    "                          columns= ['폴더','파일명'])\n",
    "path_list = path_list['파일명']\n",
    "transcript = pd.DataFrame({\n",
    "    'filename':path_list,\n",
    "    'script':transcript_list\n",
    "})\n",
    "transcript"
   ]
  },
  {
   "cell_type": "code",
   "execution_count": 41,
   "metadata": {},
   "outputs": [],
   "source": [
    "train_X = []\n",
    "train_y = []\n",
    "test_X = []\n",
    "test_y = []"
   ]
  },
  {
   "cell_type": "code",
   "execution_count": 46,
   "metadata": {},
   "outputs": [],
   "source": [
    "import warnings\n",
    "\n",
    "warnings.filterwarnings('ignore')\n",
    "\n",
    "# train data\n",
    "for filename in os.listdir(train_path):\n",
    "    data = f'{train_path}/{filename}'\n",
    "    wav, sr = librosa.load(data,sr=16000)\n",
    "    mfcc = librosa.feature.mfcc(wav)\n",
    "    padded_mfcc = pad2d(mfcc, 40)\n",
    "    train_dataset.append(padded_mfcc)\n",
    "    \n",
    "    tuple = transcript[transcript['filename'].str.contains(filename)]\n",
    "    script = tuple['script'].values[0]\n",
    "    train_transcript.append(script)    \n",
    "\n",
    "# test data\n",
    "for filename in os.listdir(test_path):\n",
    "    data = f'{test_path}/{filename}'\n",
    "    wav, sr = librosa.load(data,sr=16000)\n",
    "    mfcc = librosa.feature.mfcc(wav)\n",
    "    padded_mfcc = pad2d(mfcc, 40)\n",
    "    test_dataset.append(padded_mfcc)\n",
    "    \n",
    "    tuple = transcript[transcript['filename'].str.contains(filename)]\n",
    "    script = tuple['script'].values[0]\n",
    "    test_transcript.append(script)"
   ]
  },
  {
   "cell_type": "code",
   "execution_count": 40,
   "metadata": {},
   "outputs": [
    {
     "data": {
      "text/plain": [
       "<matplotlib.collections.QuadMesh at 0x20e5b3d6170>"
      ]
     },
     "execution_count": 40,
     "metadata": {},
     "output_type": "execute_result"
    },
    {
     "data": {
      "image/png": "[encoded data removed]",
      "text/plain": [
       "<Figure size 432x288 with 1 Axes>"
      ]
     },
     "metadata": {
      "needs_background": "light"
     },
     "output_type": "display_data"
    }
   ],
   "source": [
    "librosa.display.specshow(train_dataset[0], sr=16000, x_axis='time')"
   ]
  }
 ],
 "metadata": {
  "kernelspec": {
   "display_name": "Python 3.10.4 64-bit",
   "language": "python",
   "name": "python3"
  },
  "language_info": {
   "codemirror_mode": {
    "name": "ipython",
    "version": 3
   },
   "file_extension": ".py",
   "mimetype": "text/x-python",
   "name": "python",
   "nbconvert_exporter": "python",
   "pygments_lexer": "ipython3",
   "version": "3.10.6"
  },
  "orig_nbformat": 4,
  "vscode": {
   "interpreter": {
    "hash": "369f2c481f4da34e4445cda3fffd2e751bd1c4d706f27375911949ba6bb62e1c"
   }
  }
 },
 "nbformat": 4,
 "nbformat_minor": 2
}
